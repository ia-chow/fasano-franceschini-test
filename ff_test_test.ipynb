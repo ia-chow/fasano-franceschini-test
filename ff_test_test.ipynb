{
 "cells": [
  {
   "cell_type": "code",
   "execution_count": 1,
   "id": "08a22e76-c4fc-4034-99ec-2ec303ab6a64",
   "metadata": {},
   "outputs": [],
   "source": [
    "import numpy as np\n",
    "import scipy\n",
    "import itertools\n",
    "import pandas as pd"
   ]
  },
  {
   "cell_type": "code",
   "execution_count": 2,
   "id": "1d2c25eb-66d1-44d9-bb0e-5e31f13ea69c",
   "metadata": {},
   "outputs": [],
   "source": [
    "from fasano_franceschini_test import ff_test_2sample"
   ]
  },
  {
   "cell_type": "code",
   "execution_count": 3,
   "id": "beb28a25-1f6e-4b13-9559-2b2ea21ebe4c",
   "metadata": {},
   "outputs": [],
   "source": [
    "impactor_aeis = np.load('true_impactor_aeis.npy')[:,:3]\n",
    "sbdb_dm_neos = pd.read_csv('telescopic_decameter_neos.csv', sep=',')\n",
    "# get the a, e, i, values and use the same H as for everything else:\n",
    "sbdb_aeis = np.array(sbdb_dm_neos[['a', 'e', 'i']])"
   ]
  },
  {
   "cell_type": "code",
   "execution_count": 4,
   "id": "cb648f22-8e66-4115-a9bd-55b1b83ac8b6",
   "metadata": {},
   "outputs": [
    {
     "data": {
      "text/plain": [
       "2.8127510383779137"
      ]
     },
     "execution_count": 4,
     "metadata": {},
     "output_type": "execute_result"
    }
   ],
   "source": [
    "ff_test_2sample(s1=impactor_aeis, s2=sbdb_aeis)"
   ]
  },
  {
   "cell_type": "code",
   "execution_count": 5,
   "id": "4c3c08ac-2e2c-4101-8bbc-11081ee8bdcd",
   "metadata": {},
   "outputs": [],
   "source": [
    "n, dim = impactor_aeis.shape\n",
    "a = [(1, -1) for i in range(dim)]\n",
    "permarr = np.array(list(itertools.product(*a)))\n"
   ]
  },
  {
   "cell_type": "code",
   "execution_count": 6,
   "id": "56984aa8-f543-4da0-aa7a-40c78b91c66d",
   "metadata": {},
   "outputs": [
    {
     "data": {
      "text/plain": [
       "array([[-1.25548192e+00, -4.17531832e-01,  8.91956720e-02,\n",
       "         9.88658080e-01],\n",
       "       [-2.76444788e+00, -1.50288445e+00, -8.66251464e-01,\n",
       "         1.76605299e+00],\n",
       "       [ 7.79777941e-01,  5.45028816e-02,  5.36859311e-01,\n",
       "        -2.67386102e-01],\n",
       "       [-3.16733851e+00, -1.72453983e+00,  4.41206664e-01,\n",
       "         6.85906315e-01],\n",
       "       [ 3.19507217e-01,  1.84474490e+00, -9.51627042e-01,\n",
       "         5.04205461e-01],\n",
       "       [ 1.44073927e-01, -6.44489145e-02,  1.92071298e-01,\n",
       "        -8.68911157e-01],\n",
       "       [-1.08752920e+00,  5.97551998e-01, -1.92866059e-01,\n",
       "        -4.41420358e-01],\n",
       "       [ 1.39659972e+00, -1.61545981e+00, -2.01613259e+00,\n",
       "         6.88023561e-01],\n",
       "       [ 2.07692684e-01,  6.68296579e-02, -4.04635479e-01,\n",
       "         2.14101095e-01],\n",
       "       [ 1.26718711e+00,  2.74681412e+00,  9.67922446e-02,\n",
       "         6.98601856e-01],\n",
       "       [ 8.44173152e-01, -1.23696094e-01, -6.86152042e-01,\n",
       "        -1.41292265e+00],\n",
       "       [ 2.57293367e+00,  1.10533333e+00,  1.15480162e-03,\n",
       "        -2.45368317e-01],\n",
       "       [-1.68715545e+00,  3.96160924e-01, -4.22859086e-01,\n",
       "         1.56454850e-01],\n",
       "       [-7.27644434e-02, -5.33627942e-01, -1.89151443e+00,\n",
       "         9.39173373e-01],\n",
       "       [ 8.58765394e-01,  9.28803287e-01,  4.44482173e-02,\n",
       "         8.20958418e-01],\n",
       "       [ 3.54229938e-01,  4.15468903e-01, -3.82813553e-01,\n",
       "         3.37216303e-01],\n",
       "       [-1.70535870e+00,  6.38242532e-01,  2.01169000e-01,\n",
       "         4.52923341e-01],\n",
       "       [-1.78011733e+00,  1.02728316e+00,  3.98625324e-01,\n",
       "         1.65116535e+00],\n",
       "       [-5.95643746e-01,  1.11732076e+00, -6.77287042e-01,\n",
       "         7.73749469e-02],\n",
       "       [ 2.09378316e+00, -1.47661838e+00, -4.51442393e-01,\n",
       "         2.08115827e+00],\n",
       "       [ 1.61261808e+00,  1.02724555e+00, -3.14315827e-01,\n",
       "         5.15080635e-01],\n",
       "       [ 1.44578504e+00,  1.77265953e+00,  7.80065533e-01,\n",
       "         4.19313973e-02],\n",
       "       [ 1.33382912e+00,  5.45842719e-01, -3.59286997e-01,\n",
       "         3.14614112e-01],\n",
       "       [-6.72379339e-01,  1.40821712e-02,  3.53577248e-01,\n",
       "        -5.11347610e-01],\n",
       "       [ 2.27644300e-01,  1.77498627e-03,  1.35790720e-01,\n",
       "        -3.91519368e-01],\n",
       "       [ 5.83482292e-01,  1.15990628e-01, -3.95793011e-01,\n",
       "        -9.29095346e-01],\n",
       "       [-8.75764448e-01,  2.41173471e-01, -6.23912398e-01,\n",
       "         4.35385143e-01],\n",
       "       [-6.27952518e-02, -9.49535607e-01,  1.06093780e+00,\n",
       "         1.61151434e-01],\n",
       "       [-1.56719071e+00, -4.99800363e-01, -7.16048109e-01,\n",
       "         1.42078203e+00],\n",
       "       [-2.01235836e-02,  1.00697871e+00,  1.80037769e+00,\n",
       "        -4.37740386e-01],\n",
       "       [-1.13480090e-01,  9.06261931e-01,  1.22137512e+00,\n",
       "         1.32904506e+00],\n",
       "       [-4.63236800e-01, -5.84833988e-01, -1.63504079e-01,\n",
       "        -1.43607942e+00],\n",
       "       [ 4.82986953e-01, -4.33478554e-01,  1.53580715e+00,\n",
       "         1.14128340e+00],\n",
       "       [ 1.21799309e+00, -2.75313107e-01, -2.27737043e+00,\n",
       "         9.23066924e-01],\n",
       "       [ 1.93369337e-01, -1.07436149e+00, -1.61228987e+00,\n",
       "         8.43575709e-01],\n",
       "       [-3.28371000e-01, -1.34389872e+00,  9.84339444e-01,\n",
       "        -2.24369501e-01],\n",
       "       [-2.00237652e-01,  8.35309535e-01, -7.01803847e-01,\n",
       "         2.49063587e+00],\n",
       "       [ 4.96205964e-01,  1.30839703e+00, -5.14288810e-02,\n",
       "         1.85131810e+00],\n",
       "       [ 7.51332793e-01, -6.29554774e-01,  2.19580244e+00,\n",
       "         7.12059379e-01],\n",
       "       [-3.20244059e-02, -2.67319954e-01,  2.12739455e+00,\n",
       "         2.34575213e-01],\n",
       "       [-2.52779236e+00,  2.31195117e+00,  1.19766768e+00,\n",
       "         8.59476731e-01],\n",
       "       [ 6.53171636e-02, -7.20951886e-01,  7.49737159e-01,\n",
       "        -1.33651419e-02],\n",
       "       [ 1.79996319e-01,  1.27150165e+00,  5.52219966e-01,\n",
       "         4.81499693e-01],\n",
       "       [ 9.74513629e-01, -1.04075348e+00, -5.10787266e-01,\n",
       "        -1.46646784e+00],\n",
       "       [-1.25732177e+00, -1.67393163e-01, -4.16029942e-01,\n",
       "        -3.15706079e-01],\n",
       "       [ 2.77684047e-01, -8.64012367e-01,  1.14038401e+00,\n",
       "         2.53933998e-01],\n",
       "       [-1.03778158e+00, -9.36536496e-02, -1.73403177e+00,\n",
       "        -3.08367785e+00],\n",
       "       [ 3.13246839e-01, -9.36375322e-01, -7.65416795e-01,\n",
       "        -2.42598798e+00],\n",
       "       [ 7.46578712e-01,  6.29220005e-01,  1.62871066e+00,\n",
       "         5.21325812e-01],\n",
       "       [ 1.56027340e+00, -1.92199921e+00, -1.69740594e+00,\n",
       "         5.93345626e-02],\n",
       "       [ 1.78828028e+00, -1.63486384e+00, -1.92183523e+00,\n",
       "        -1.10719465e+00],\n",
       "       [ 5.51045757e-02,  4.32102347e-01,  8.89004649e-02,\n",
       "         1.12122193e+00],\n",
       "       [-1.78731455e+00,  1.63500718e+00,  1.53507350e+00,\n",
       "         1.66230676e-01],\n",
       "       [ 1.60584104e-01,  6.89709414e-01,  7.04644419e-01,\n",
       "         1.00866865e+00],\n",
       "       [ 1.05887035e+00,  1.23237731e+00, -6.72668703e-01,\n",
       "        -1.20636415e+00],\n",
       "       [-7.40303990e-01,  3.12340342e-01, -2.37696132e-01,\n",
       "        -1.51992548e+00],\n",
       "       [-4.06312192e-01, -1.15135755e-01, -6.98709687e-01,\n",
       "         8.24878632e-02],\n",
       "       [-1.57737850e-01, -2.29693180e-02,  6.41780395e-01,\n",
       "        -2.58931444e-01],\n",
       "       [ 7.70991219e-01, -9.27179291e-01,  5.50458939e-01,\n",
       "        -4.63813651e-01],\n",
       "       [-1.12229753e+00, -1.49873384e+00, -3.54758435e-01,\n",
       "        -1.43655233e+00],\n",
       "       [ 1.21293663e+00,  1.00564055e+00,  4.84634037e-01,\n",
       "        -1.19225798e+00],\n",
       "       [-1.47880769e-01,  1.38645541e+00, -2.74867467e-01,\n",
       "        -3.35557037e-02],\n",
       "       [-1.23773391e+00,  5.36185935e-01, -1.25618780e+00,\n",
       "         9.16697990e-01],\n",
       "       [-2.00958210e-02,  1.49066981e+00,  4.24239434e-01,\n",
       "         3.94273248e-01],\n",
       "       [ 2.88013872e-01,  1.58356022e+00, -3.57919384e-01,\n",
       "        -1.46821634e-01],\n",
       "       [-1.21918855e+00, -3.31394464e-01, -2.13372122e+00,\n",
       "         3.40023331e-01],\n",
       "       [-4.27566205e-02,  2.78053622e-01,  1.76899914e-01,\n",
       "         8.12234304e-01],\n",
       "       [-1.13245110e+00, -1.19998467e+00, -9.90648784e-01,\n",
       "        -1.06559091e+00],\n",
       "       [-1.13302907e+00, -1.05566116e+00, -1.82958215e-01,\n",
       "        -2.82956016e-01],\n",
       "       [-3.73496167e-01,  4.37250577e-01,  2.46731112e+00,\n",
       "         9.23930289e-01],\n",
       "       [ 1.18824496e+00, -1.48706882e+00,  8.70873456e-01,\n",
       "        -2.18785796e+00],\n",
       "       [ 1.20116590e+00,  3.40743803e-01, -1.09186991e+00,\n",
       "         1.43753945e-01],\n",
       "       [-6.22008008e-01,  8.16433362e-01,  1.34912652e+00,\n",
       "         2.15381707e+00],\n",
       "       [-6.49593476e-01, -4.23753212e-01,  2.64031425e-01,\n",
       "        -1.76722693e-01],\n",
       "       [ 4.43627980e-01,  1.60398595e+00,  8.71464065e-01,\n",
       "         5.56986867e-01],\n",
       "       [-5.48373663e-01,  1.23123529e+00, -2.46512445e+00,\n",
       "        -1.68312645e+00],\n",
       "       [ 3.50717056e-01,  4.55676532e-01,  2.12371705e+00,\n",
       "         9.91420762e-01],\n",
       "       [-6.99028712e-01,  2.54018309e-01,  1.48062240e+00,\n",
       "        -6.48132729e-01],\n",
       "       [ 4.95229930e-01, -3.96382214e-01,  1.25212776e+00,\n",
       "        -8.11687905e-01],\n",
       "       [ 1.18938956e+00,  1.75680264e+00, -9.94718927e-01,\n",
       "        -3.49666124e-01],\n",
       "       [ 2.96079447e+00, -2.42527121e-01, -4.53359688e-02,\n",
       "        -4.18845118e-01],\n",
       "       [-1.67099399e+00, -6.85921944e-01,  5.51686527e-01,\n",
       "         1.16871635e+00],\n",
       "       [-1.08956819e+00, -3.20517307e-01, -3.00795197e+00,\n",
       "        -5.45404026e-01],\n",
       "       [-7.53585594e-01, -1.80340977e+00,  7.49373915e-01,\n",
       "        -2.83947945e-01],\n",
       "       [-5.18204141e-01, -6.83526101e-01, -2.93905200e-01,\n",
       "         1.15434783e+00],\n",
       "       [-8.68900426e-01,  8.42162111e-01,  1.15450640e-01,\n",
       "        -4.62968705e-01],\n",
       "       [ 1.82868670e-01, -1.12928825e+00, -2.79553259e-01,\n",
       "        -2.11140874e-01],\n",
       "       [ 5.36842684e-01, -5.52684008e-01,  9.55491869e-01,\n",
       "         1.25119956e+00],\n",
       "       [ 8.57165256e-01, -3.70397679e-01, -9.03264830e-02,\n",
       "        -1.09704759e+00],\n",
       "       [ 1.80123196e+00, -1.42778426e-01,  6.63618446e-01,\n",
       "         4.37040582e-01],\n",
       "       [ 4.92854142e-01, -1.54866939e+00, -5.94106638e-01,\n",
       "        -1.50622774e-01],\n",
       "       [ 2.30646360e+00, -1.01791900e+00, -2.15867229e-01,\n",
       "        -1.18491185e+00],\n",
       "       [ 6.41385718e-01,  6.97176325e-01, -3.84601064e-01,\n",
       "         1.30787361e+00],\n",
       "       [ 1.11620575e+00,  1.95663984e+00, -1.19843757e-01,\n",
       "        -1.52501150e+00],\n",
       "       [-1.40997582e-01,  3.60550047e-01, -1.23576137e+00,\n",
       "        -1.46873949e+00],\n",
       "       [ 2.41510439e-01, -2.76660790e+00, -3.85097173e-01,\n",
       "        -8.80775242e-01],\n",
       "       [ 2.29618253e+00,  8.50686834e-01, -2.42719112e-01,\n",
       "        -4.28875522e-01],\n",
       "       [-1.64904243e+00,  7.32521975e-01, -4.35143548e-01,\n",
       "         1.01408593e+00],\n",
       "       [ 2.14448109e-01,  8.03050998e-01, -9.93264270e-02,\n",
       "         1.75779140e+00],\n",
       "       [-9.22655939e-02,  2.38779239e+00, -6.68549760e-01,\n",
       "        -1.82892963e+00]])"
      ]
     },
     "execution_count": 6,
     "metadata": {},
     "output_type": "execute_result"
    }
   ],
   "source": [
    "np.vstack([np.random.normal(0, 1, size=100), \n",
    "                       np.random.normal(0, 1, size=100), \n",
    "                       np.random.normal(0, 1, size=100), \n",
    "                       np.random.normal(0, 1, size=100)]).T"
   ]
  },
  {
   "cell_type": "code",
   "execution_count": 29,
   "id": "284b61d1-4329-4b7e-a1d9-938644a577bf",
   "metadata": {},
   "outputs": [
    {
     "data": {
      "text/plain": [
       "15.071098168348584"
      ]
     },
     "execution_count": 29,
     "metadata": {},
     "output_type": "execute_result"
    }
   ],
   "source": [
    "rand_norm1 = np.vstack([np.random.normal(1, 1, size=1000), \n",
    "                       np.random.normal(3, 1, size=1000), \n",
    "                       np.random.normal(4, 1, size=1000), \n",
    "                       np.random.normal(4, 1, size=1000)]).T\n",
    "rand_norm2 = np.vstack([np.random.normal(2, 2, size=1000), \n",
    "                       np.random.normal(2, 2, size=1000), \n",
    "                       np.random.normal(3, 2, size=1000), \n",
    "                       np.random.normal(6, 2, size=1000)]).T\n",
    "np.save('rand_norm1.npy', rand_norm1)\n",
    "np.save('rand_norm2.npy', rand_norm2)\n",
    "\n",
    "ff_test_2sample(s1=rand_norm1, s2=rand_norm2)"
   ]
  },
  {
   "cell_type": "code",
   "execution_count": 8,
   "id": "67942275-ea77-4b42-9a34-cf5d57cb76df",
   "metadata": {},
   "outputs": [
    {
     "data": {
      "text/plain": [
       "array([[ 1,  1,  1],\n",
       "       [ 1,  1, -1],\n",
       "       [ 1, -1,  1],\n",
       "       [ 1, -1, -1],\n",
       "       [-1,  1,  1],\n",
       "       [-1,  1, -1],\n",
       "       [-1, -1,  1],\n",
       "       [-1, -1, -1]])"
      ]
     },
     "execution_count": 8,
     "metadata": {},
     "output_type": "execute_result"
    }
   ],
   "source": [
    "np.array(list(itertools.product(*[(1, -1) for d in range(dim)])))"
   ]
  },
  {
   "cell_type": "code",
   "execution_count": 9,
   "id": "9acf3c3b-48f0-45fd-bd14-a7aca2c36e6c",
   "metadata": {},
   "outputs": [
    {
     "data": {
      "text/plain": [
       "((14, 3), (295, 3))"
      ]
     },
     "execution_count": 9,
     "metadata": {},
     "output_type": "execute_result"
    }
   ],
   "source": [
    "impactor_aeis.shape, sbdb_aeis.shape"
   ]
  },
  {
   "cell_type": "code",
   "execution_count": 10,
   "id": "624b37e8-a83a-42b4-9293-5509b79847ce",
   "metadata": {},
   "outputs": [
    {
     "data": {
      "text/plain": [
       "14"
      ]
     },
     "execution_count": 10,
     "metadata": {},
     "output_type": "execute_result"
    }
   ],
   "source": [
    "len(impactor_aeis)"
   ]
  },
  {
   "cell_type": "code",
   "execution_count": 11,
   "id": "f7ac0136-a158-4f7f-85b6-501395bda674",
   "metadata": {},
   "outputs": [
    {
     "ename": "NameError",
     "evalue": "name 'perm_impactor_aeis' is not defined",
     "output_type": "error",
     "traceback": [
      "\u001b[0;31m---------------------------------------------------------------------------\u001b[0m",
      "\u001b[0;31mNameError\u001b[0m                                 Traceback (most recent call last)",
      "Cell \u001b[0;32mIn[11], line 1\u001b[0m\n\u001b[0;32m----> 1\u001b[0m \u001b[43mperm_impactor_aeis\u001b[49m[:,\u001b[38;5;241m0\u001b[39m]\n",
      "\u001b[0;31mNameError\u001b[0m: name 'perm_impactor_aeis' is not defined"
     ]
    }
   ],
   "source": [
    "perm_impactor_aeis[:,0]"
   ]
  },
  {
   "cell_type": "code",
   "execution_count": 75,
   "id": "1cb27c0c-39f4-44cd-8d3a-2a97e686fb37",
   "metadata": {},
   "outputs": [],
   "source": [
    "def get_normalized_orth_probs(permarr, S, point):\n",
    "    \"\"\"\n",
    "    get normalized orthant probabilities\n",
    "    \"\"\"\n",
    "    f_orth_probs = np.zeros(len(permarr))\n",
    "\n",
    "    perm_S = np.multiply(permarr[:, None], S)\n",
    "    perm_point = np.multiply(permarr[:, None], point)\n",
    "    f_orth_probs = np.sum(np.bitwise_and.reduce(perm_S > perm_point, axis=-1), axis=-1)\n",
    "    # for i, perm in enumerate(permarr):\n",
    "    #     # x1 < x2 is equivalent to -x1 > -x2: we want to evaluate whether the pont falls into a given orthant\n",
    "    #     perm_S = np.multiply(perm, S)\n",
    "    #     perm_point = np.multiply(perm, point)\n",
    "    #     f_orth_probs[i] = np.sum(np.bitwise_and.reduce(perm_S > perm_point, axis=-1))\n",
    "\n",
    "    return f_orth_probs/len(S)"
   ]
  },
  {
   "cell_type": "code",
   "execution_count": 84,
   "id": "29cbe99c-29b2-45f3-83a1-72a6e5cd3c26",
   "metadata": {},
   "outputs": [
    {
     "data": {
      "text/plain": [
       "0.38305084745762713"
      ]
     },
     "execution_count": 84,
     "metadata": {},
     "output_type": "execute_result"
    }
   ],
   "source": [
    "orth_probs_s1 = get_normalized_orth_probs(permarr=permarr, S=impactor_aeis, point=aei)\n",
    "orth_probs_s2 = get_normalized_orth_probs(permarr=permarr, S=sbdb_aeis, point=aei)\n",
    "\n",
    "Dn1 = np.max(np.array([np.abs(f1-f2) for f1, f2 in zip(orth_probs_s1, orth_probs_s2)]))\n",
    "Dn1"
   ]
  },
  {
   "cell_type": "code",
   "execution_count": 76,
   "id": "f9285361-fa02-4e30-86aa-073fe6a76a3b",
   "metadata": {},
   "outputs": [
    {
     "data": {
      "text/plain": [
       "array([[[ 1.707077,  0.559619,  4.115442]],\n",
       "\n",
       "       [[ 1.707077,  0.559619, -4.115442]],\n",
       "\n",
       "       [[ 1.707077, -0.559619,  4.115442]],\n",
       "\n",
       "       [[ 1.707077, -0.559619, -4.115442]],\n",
       "\n",
       "       [[-1.707077,  0.559619,  4.115442]],\n",
       "\n",
       "       [[-1.707077,  0.559619, -4.115442]],\n",
       "\n",
       "       [[-1.707077, -0.559619,  4.115442]],\n",
       "\n",
       "       [[-1.707077, -0.559619, -4.115442]]])"
      ]
     },
     "execution_count": 76,
     "metadata": {},
     "output_type": "execute_result"
    }
   ],
   "source": [
    "(permarr[:, None] * impactor_aeis[0])"
   ]
  },
  {
   "cell_type": "code",
   "execution_count": 77,
   "id": "3610d50d-bd1e-47d7-8a17-907cf26787ac",
   "metadata": {},
   "outputs": [
    {
     "data": {
      "text/plain": [
       "(16, 1000, 4)"
      ]
     },
     "execution_count": 77,
     "metadata": {},
     "output_type": "execute_result"
    }
   ],
   "source": [
    "permarr_4 = np.array(list(itertools.product(*[(1, -1) for d in range(4)])))\n",
    "(permarr_4[:, None] * rand_norm1).shape"
   ]
  },
  {
   "cell_type": "code",
   "execution_count": 78,
   "id": "1ae6a616-ce83-4b74-874f-81e0e7a56b9c",
   "metadata": {},
   "outputs": [
    {
     "data": {
      "text/plain": [
       "array([3, 6, 0, 0, 1, 1, 3, 0])"
      ]
     },
     "execution_count": 78,
     "metadata": {},
     "output_type": "execute_result"
    }
   ],
   "source": [
    "perm_S = (permarr[:, None] * impactor_aeis)\n",
    "perm_point = (permarr[:, None] * aei)\n",
    "\n",
    "np.sum(np.bitwise_and.reduce(perm_S > perm_point, axis=-1), axis=-1)"
   ]
  },
  {
   "cell_type": "code",
   "execution_count": 79,
   "id": "df94ac40-b7b2-48ff-b3c6-e78e6d380ad2",
   "metadata": {},
   "outputs": [
    {
     "data": {
      "text/plain": [
       "array([[[ True,  True, False],\n",
       "        [ True,  True,  True],\n",
       "        [False,  True,  True],\n",
       "        [ True,  True, False],\n",
       "        [ True,  True, False],\n",
       "        [False, False,  True],\n",
       "        [ True,  True, False],\n",
       "        [ True,  True, False],\n",
       "        [False, False,  True],\n",
       "        [False,  True, False],\n",
       "        [ True,  True, False],\n",
       "        [ True,  True,  True],\n",
       "        [ True,  True,  True],\n",
       "        [False, False,  True]],\n",
       "\n",
       "       [[ True,  True,  True],\n",
       "        [ True,  True, False],\n",
       "        [False,  True, False],\n",
       "        [ True,  True,  True],\n",
       "        [ True,  True,  True],\n",
       "        [False, False, False],\n",
       "        [ True,  True,  True],\n",
       "        [ True,  True,  True],\n",
       "        [False, False, False],\n",
       "        [False,  True,  True],\n",
       "        [ True,  True,  True],\n",
       "        [ True,  True, False],\n",
       "        [ True,  True, False],\n",
       "        [False, False, False]],\n",
       "\n",
       "       [[ True, False, False],\n",
       "        [ True, False,  True],\n",
       "        [False, False,  True],\n",
       "        [ True, False, False],\n",
       "        [ True, False, False],\n",
       "        [False,  True,  True],\n",
       "        [ True, False, False],\n",
       "        [ True, False, False],\n",
       "        [False,  True,  True],\n",
       "        [False, False, False],\n",
       "        [ True, False, False],\n",
       "        [ True, False,  True],\n",
       "        [ True, False,  True],\n",
       "        [False,  True,  True]],\n",
       "\n",
       "       [[ True, False,  True],\n",
       "        [ True, False, False],\n",
       "        [False, False, False],\n",
       "        [ True, False,  True],\n",
       "        [ True, False,  True],\n",
       "        [False,  True, False],\n",
       "        [ True, False,  True],\n",
       "        [ True, False,  True],\n",
       "        [False,  True, False],\n",
       "        [False, False,  True],\n",
       "        [ True, False,  True],\n",
       "        [ True, False, False],\n",
       "        [ True, False, False],\n",
       "        [False,  True, False]],\n",
       "\n",
       "       [[False,  True, False],\n",
       "        [False,  True,  True],\n",
       "        [ True,  True,  True],\n",
       "        [False,  True, False],\n",
       "        [False,  True, False],\n",
       "        [ True, False,  True],\n",
       "        [False,  True, False],\n",
       "        [False,  True, False],\n",
       "        [ True, False,  True],\n",
       "        [ True,  True, False],\n",
       "        [False,  True, False],\n",
       "        [False,  True,  True],\n",
       "        [False,  True,  True],\n",
       "        [ True, False,  True]],\n",
       "\n",
       "       [[False,  True,  True],\n",
       "        [False,  True, False],\n",
       "        [ True,  True, False],\n",
       "        [False,  True,  True],\n",
       "        [False,  True,  True],\n",
       "        [ True, False, False],\n",
       "        [False,  True,  True],\n",
       "        [False,  True,  True],\n",
       "        [ True, False, False],\n",
       "        [ True,  True,  True],\n",
       "        [False,  True,  True],\n",
       "        [False,  True, False],\n",
       "        [False,  True, False],\n",
       "        [ True, False, False]],\n",
       "\n",
       "       [[False, False, False],\n",
       "        [False, False,  True],\n",
       "        [ True, False,  True],\n",
       "        [False, False, False],\n",
       "        [False, False, False],\n",
       "        [ True,  True,  True],\n",
       "        [False, False, False],\n",
       "        [False, False, False],\n",
       "        [ True,  True,  True],\n",
       "        [ True, False, False],\n",
       "        [False, False, False],\n",
       "        [False, False,  True],\n",
       "        [False, False,  True],\n",
       "        [ True,  True,  True]],\n",
       "\n",
       "       [[False, False,  True],\n",
       "        [False, False, False],\n",
       "        [ True, False, False],\n",
       "        [False, False,  True],\n",
       "        [False, False,  True],\n",
       "        [ True,  True, False],\n",
       "        [False, False,  True],\n",
       "        [False, False,  True],\n",
       "        [ True,  True, False],\n",
       "        [ True, False,  True],\n",
       "        [False, False,  True],\n",
       "        [False, False, False],\n",
       "        [False, False, False],\n",
       "        [ True,  True, False]]])"
      ]
     },
     "execution_count": 79,
     "metadata": {},
     "output_type": "execute_result"
    }
   ],
   "source": [
    "perm_S > perm_point"
   ]
  },
  {
   "cell_type": "code",
   "execution_count": 80,
   "id": "f250dee0-5337-4d86-829a-6e5a54c97878",
   "metadata": {},
   "outputs": [
    {
     "ename": "NameError",
     "evalue": "name 'A' is not defined",
     "output_type": "error",
     "traceback": [
      "\u001b[0;31m---------------------------------------------------------------------------\u001b[0m",
      "\u001b[0;31mNameError\u001b[0m                                 Traceback (most recent call last)",
      "Cell \u001b[0;32mIn[80], line 1\u001b[0m\n\u001b[0;32m----> 1\u001b[0m \u001b[43mA\u001b[49m[:,\u001b[38;5;28;01mNone\u001b[39;00m,:]\u001b[38;5;241m*\u001b[39mB[:,:,\u001b[38;5;28;01mNone\u001b[39;00m]\n",
      "\u001b[0;31mNameError\u001b[0m: name 'A' is not defined"
     ]
    }
   ],
   "source": [
    "A[:,None,:]*B[:,:,None]"
   ]
  },
  {
   "cell_type": "code",
   "execution_count": 81,
   "id": "df01c1fc-99f1-4a20-8c13-8d443919519b",
   "metadata": {},
   "outputs": [
    {
     "data": {
      "text/plain": [
       "(8, 3, 14, 3)"
      ]
     },
     "execution_count": 81,
     "metadata": {},
     "output_type": "execute_result"
    }
   ],
   "source": [
    "np.multiply.outer(permarr, impactor_aeis).shape"
   ]
  },
  {
   "cell_type": "code",
   "execution_count": 82,
   "id": "a758cab0-3198-4dae-8d00-7f9f3fabb331",
   "metadata": {},
   "outputs": [
    {
     "data": {
      "text/plain": [
       "(8, 3, 14, 3)"
      ]
     },
     "execution_count": 82,
     "metadata": {},
     "output_type": "execute_result"
    }
   ],
   "source": [
    "np.tensordot(permarr, impactor_aeis, axes=0).shape"
   ]
  },
  {
   "cell_type": "code",
   "execution_count": 83,
   "id": "6d9300e0-bc7d-4e35-87b9-df6c90558701",
   "metadata": {},
   "outputs": [
    {
     "data": {
      "text/plain": [
       "0.38305084745762713"
      ]
     },
     "execution_count": 83,
     "metadata": {},
     "output_type": "execute_result"
    }
   ],
   "source": []
  },
  {
   "cell_type": "code",
   "execution_count": null,
   "id": "6a27059e-f16f-4e13-85d2-6b8d073ac2eb",
   "metadata": {},
   "outputs": [],
   "source": []
  },
  {
   "cell_type": "code",
   "execution_count": null,
   "id": "840a85fc-8d60-4956-8d80-9dedd690d60b",
   "metadata": {},
   "outputs": [],
   "source": [
    "normalized_f_orth_probs = f_orth_probs/n"
   ]
  },
  {
   "cell_type": "code",
   "execution_count": 18,
   "id": "0a82d4c6-68f4-4b0c-b437-1eff20d52b13",
   "metadata": {},
   "outputs": [],
   "source": [
    "f_orth_probs = np.zeros(len(permarr))"
   ]
  },
  {
   "cell_type": "code",
   "execution_count": 15,
   "id": "7cee113f-7a6e-4561-aca4-aa48564fd3c7",
   "metadata": {},
   "outputs": [],
   "source": [
    "aei = np.array([1.1, 0.25, 6.])"
   ]
  },
  {
   "cell_type": "code",
   "execution_count": 23,
   "id": "cb65a17a-2b52-4c0d-8a94-d860755a668c",
   "metadata": {},
   "outputs": [],
   "source": [
    "orth = np.multiply(permarr[2], impactor_aeis)\n",
    "\n",
    "\n",
    "conditions = impactor_aeis > aei\n",
    "f_orth_probs[2] = np.sum(np.bitwise_and.reduce(conditions, axis=-1))"
   ]
  },
  {
   "cell_type": "code",
   "execution_count": 22,
   "id": "4b8e995b-3099-44e9-b0dc-8bebec1d4c79",
   "metadata": {},
   "outputs": [
    {
     "data": {
      "text/plain": [
       "array([[ True,  True, False],\n",
       "       [ True,  True,  True],\n",
       "       [False,  True,  True],\n",
       "       [ True,  True, False],\n",
       "       [ True,  True, False],\n",
       "       [False, False,  True],\n",
       "       [ True,  True, False],\n",
       "       [ True,  True, False],\n",
       "       [False, False,  True],\n",
       "       [False,  True, False],\n",
       "       [ True,  True, False],\n",
       "       [ True,  True,  True],\n",
       "       [ True,  True,  True],\n",
       "       [False, False,  True]])"
      ]
     },
     "execution_count": 22,
     "metadata": {},
     "output_type": "execute_result"
    }
   ],
   "source": [
    "impactor_aeis > aei"
   ]
  },
  {
   "cell_type": "code",
   "execution_count": 107,
   "id": "778650f7-9f97-472e-9ae8-eb9b0242a4c8",
   "metadata": {},
   "outputs": [
    {
     "data": {
      "text/plain": [
       "[array([ True, False, False,  True,  True, False,  True,  True, False,\n",
       "        False,  True, False, False, False])]"
      ]
     },
     "execution_count": 107,
     "metadata": {},
     "output_type": "execute_result"
    }
   ],
   "source": [
    "[(impactor_as > a1) & (impactor_es > e1) & (impactor_is < i1)]"
   ]
  },
  {
   "cell_type": "code",
   "execution_count": 53,
   "id": "1909641f-a759-4716-9019-7d72030dd055",
   "metadata": {},
   "outputs": [
    {
     "data": {
      "text/plain": [
       "(array([[ 1.707077, -0.559619,  4.115442],\n",
       "        [ 3.937435, -0.758731, 47.72114 ],\n",
       "        [ 0.999096, -0.390349, 16.452354],\n",
       "        [ 1.340342, -0.598135,  0.064387],\n",
       "        [ 2.135537, -0.720735,  2.10109 ],\n",
       "        [ 1.067342, -0.117548,  7.187758],\n",
       "        [ 2.486342, -0.615878,  4.259817],\n",
       "        [ 2.81715 , -0.657107,  0.118581],\n",
       "        [ 0.823644, -0.232537, 11.632231],\n",
       "        [ 0.624094, -0.625687,  3.94363 ],\n",
       "        [ 2.097041, -0.534887,  5.909579],\n",
       "        [ 1.942803, -0.5231  , 22.068825],\n",
       "        [ 1.900956, -0.483911, 14.501607],\n",
       "        [ 1.055591, -0.076817, 12.041149]]),\n",
       " array([[ 1.707077,  0.559619,  4.115442],\n",
       "        [ 3.937435,  0.758731, 47.72114 ],\n",
       "        [ 0.999096,  0.390349, 16.452354],\n",
       "        [ 1.340342,  0.598135,  0.064387],\n",
       "        [ 2.135537,  0.720735,  2.10109 ],\n",
       "        [ 1.067342,  0.117548,  7.187758],\n",
       "        [ 2.486342,  0.615878,  4.259817],\n",
       "        [ 2.81715 ,  0.657107,  0.118581],\n",
       "        [ 0.823644,  0.232537, 11.632231],\n",
       "        [ 0.624094,  0.625687,  3.94363 ],\n",
       "        [ 2.097041,  0.534887,  5.909579],\n",
       "        [ 1.942803,  0.5231  , 22.068825],\n",
       "        [ 1.900956,  0.483911, 14.501607],\n",
       "        [ 1.055591,  0.076817, 12.041149]]))"
      ]
     },
     "execution_count": 53,
     "metadata": {},
     "output_type": "execute_result"
    }
   ],
   "source": [
    "np.multiply(iterarr[2], impactor_aeis), impactor_aeis"
   ]
  },
  {
   "cell_type": "code",
   "execution_count": 81,
   "id": "76ac641c-960c-4ddd-8f1d-95e999d1ca35",
   "metadata": {},
   "outputs": [
    {
     "data": {
      "text/plain": [
       "(array([[1., 1., 0.],\n",
       "        [1., 1., 1.],\n",
       "        [0., 1., 1.],\n",
       "        [1., 1., 0.],\n",
       "        [1., 1., 0.],\n",
       "        [0., 0., 1.],\n",
       "        [1., 1., 0.],\n",
       "        [1., 1., 0.],\n",
       "        [0., 0., 1.],\n",
       "        [0., 1., 0.],\n",
       "        [1., 1., 0.],\n",
       "        [1., 1., 1.],\n",
       "        [1., 1., 1.],\n",
       "        [0., 0., 1.]]),\n",
       " array([ True,  True, False,  True,  True, False,  True,  True, False,\n",
       "        False,  True,  True,  True, False]))"
      ]
     },
     "execution_count": 81,
     "metadata": {},
     "output_type": "execute_result"
    }
   ],
   "source": [
    "conditions, impactor_as > a1"
   ]
  },
  {
   "cell_type": "code",
   "execution_count": 79,
   "id": "9da20489-6d90-40ca-aff5-0b67b8fb38fb",
   "metadata": {},
   "outputs": [
    {
     "data": {
      "text/plain": [
       "[array([False,  True, False, False, False, False, False, False, False,\n",
       "        False, False,  True,  True, False])]"
      ]
     },
     "execution_count": 79,
     "metadata": {},
     "output_type": "execute_result"
    }
   ],
   "source": [
    "[(impactor_as > a1) & (impactor_es > e1) & (impactor_is > i1)]"
   ]
  },
  {
   "cell_type": "code",
   "execution_count": 41,
   "id": "51357e27-dd0f-4ec8-bda3-adea21e6b783",
   "metadata": {},
   "outputs": [],
   "source": [
    "a, e, i = 1, 3, 5\n",
    "a1, e1, i1 = 1.1, 0.25, 6.\n",
    "\n",
    "impactor_aeis = np.load('speed_radiant_difference/true_impactor_aeis.npy')[:,:3]\n",
    "impactor_as, impactor_es, impactor_is = impactor_aeis.T"
   ]
  },
  {
   "cell_type": "code",
   "execution_count": 42,
   "id": "abfa072f-a6cc-46f9-a2c4-974a9e88fb4f",
   "metadata": {},
   "outputs": [],
   "source": [
    "    fppp11 = len(impactor_aeis[(impactor_as > a1) & (impactor_es > e1) & (impactor_is > i1)])\n",
    "    fppn11 = len(impactor_aeis[(impactor_as > a1) & (impactor_es > e1) & (impactor_is < i1)])\n",
    "    fpnp11 = len(impactor_aeis[(impactor_as > a1) & (impactor_es < e1) & (impactor_is > i1)])\n",
    "    fpnn11 = len(impactor_aeis[(impactor_as > a1) & (impactor_es < e1) & (impactor_is < i1)])\n",
    "    \n",
    "    fnpp11 = len(impactor_aeis[(impactor_as < a1) & (impactor_es > e1) & (impactor_is > i1)])\n",
    "    fnpn11 = len(impactor_aeis[(impactor_as < a1) & (impactor_es > e1) & (impactor_is < i1)])\n",
    "    fnnp11 = len(impactor_aeis[(impactor_as < a1) & (impactor_es < e1) & (impactor_is > i1)])\n",
    "    fnnn11 = len(impactor_aeis[(impactor_as < a1) & (impactor_es < e1) & (impactor_is < i1)])"
   ]
  },
  {
   "cell_type": "code",
   "execution_count": 115,
   "id": "c77913a9-4875-4aa3-8e92-bd67bdab4218",
   "metadata": {},
   "outputs": [
    {
     "data": {
      "text/plain": [
       "(3, 6, 0, 0, 1, 1, 3, 0)"
      ]
     },
     "execution_count": 115,
     "metadata": {},
     "output_type": "execute_result"
    }
   ],
   "source": [
    "fppp11, fppn11, fpnp11, fpnn11, fnpp11, fnpn11, fnnp11, fnnn11"
   ]
  }
 ],
 "metadata": {
  "kernelspec": {
   "display_name": "Python 3 (ipykernel)",
   "language": "python",
   "name": "python3"
  },
  "language_info": {
   "codemirror_mode": {
    "name": "ipython",
    "version": 3
   },
   "file_extension": ".py",
   "mimetype": "text/x-python",
   "name": "python",
   "nbconvert_exporter": "python",
   "pygments_lexer": "ipython3",
   "version": "3.10.12"
  }
 },
 "nbformat": 4,
 "nbformat_minor": 5
}
