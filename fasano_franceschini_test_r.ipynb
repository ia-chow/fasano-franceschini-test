{
 "cells": [
  {
   "cell_type": "markdown",
   "id": "90d65044-65db-47fd-bde6-1d2f2ac59a88",
   "metadata": {},
   "source": [
    "Importing required packages:"
   ]
  },
  {
   "cell_type": "code",
   "execution_count": 1,
   "id": "63f64662-5498-4a9c-9034-14f72d66c431",
   "metadata": {},
   "outputs": [
    {
     "name": "stderr",
     "output_type": "stream",
     "text": [
      "Loading required package: Matrix\n",
      "\n",
      "Loaded glmnet 4.1-8\n",
      "\n",
      "\n",
      "Attaching package: ‘dplyr’\n",
      "\n",
      "\n",
      "The following objects are masked from ‘package:stats’:\n",
      "\n",
      "    filter, lag\n",
      "\n",
      "\n",
      "The following objects are masked from ‘package:base’:\n",
      "\n",
      "    intersect, setdiff, setequal, union\n",
      "\n",
      "\n"
     ]
    }
   ],
   "source": [
    "library(leaps)\n",
    "library(glmnet)\n",
    "library(dplyr)\n",
    "# library(tidyverse)  # still need to fix this issue in anaconda...\n",
    "library(ggplot2)\n",
    "library(fasano.franceschini.test)\n",
    "# library(MASS)  # this messes with select() and I don't need it so just comment out...\n",
    "library(reticulate)"
   ]
  },
  {
   "cell_type": "markdown",
   "id": "d290084c-5832-4a9b-87aa-268f5fb43fc4",
   "metadata": {},
   "source": [
    "Importing the telescopic and impactor data and get the $a$, $e$, $i$ values. Note that the orbital elements in the impactor data are in the order of `orb_param_variables` in the `monte_carlo_granvik_model.ipynb` notebook, which should be $a$, $e$, $i$, $\\Omega$, $\\omega$, $M$:"
   ]
  },
  {
   "cell_type": "code",
   "execution_count": 2,
   "id": "14f888be-5372-4838-818a-f580ae450b2f",
   "metadata": {},
   "outputs": [],
   "source": [
    "# # importing\n",
    "# telescopic_data <- read.csv('telescopic_decameter_neos.csv')\n",
    "# impactor_data <- import('numpy')$load('true_impactor_aeis.npy')  # use reticulate to import .npy files into R \n",
    "# # get the a, e, i values\n",
    "# telescopic_aeis <- select(telescopic_data, c('a', 'e', 'i'))\n",
    "# impactor_aeis <- impactor_data[, 0:3]  # since a, e, i are the first three orbital elements, in that order"
   ]
  },
  {
   "cell_type": "markdown",
   "id": "3432498c-664d-4737-a86a-f8956606f219",
   "metadata": {},
   "source": [
    "Perform the multivariate K-S test outlined by Fasano \\& Franceschini 1987 and implemented in `R` according to Puritz et al. 2023 for the telescopic vs. impactors:"
   ]
  },
  {
   "cell_type": "code",
   "execution_count": 3,
   "id": "5dcf42f8-1011-4ae5-b040-de45caf734b0",
   "metadata": {},
   "outputs": [],
   "source": [
    "# # set seed and number of permutations\n",
    "# # SEED <- 1234\n",
    "# n_perms <- 1000\n",
    "# # perform the test\n",
    "# ff_test <- fasano.franceschini.test(telescopic_aeis, impactor_aeis, nPermute=n_perms, threads='auto', verbose=FALSE)\n",
    "# ff_test"
   ]
  },
  {
   "cell_type": "markdown",
   "id": "9a17ad8c-98b2-4854-a8b0-2bc443b62b9c",
   "metadata": {},
   "source": [
    "The Fasano-Franceschini method implemented in `R` uses $D = n_1n_2\\left(D_{n_1} + D_{n_2}\\right)$ as their test statistic, so we use $D_n = \\frac{D}{ 2\\sqrt{n_1n_2\\left(n_1+n_2\\right)}}$ to convert from their test statistic $D$ to ours $D_n$:"
   ]
  },
  {
   "cell_type": "code",
   "execution_count": 4,
   "id": "2e19c2b1-0d3b-425c-a1fd-356fd67287d8",
   "metadata": {},
   "outputs": [],
   "source": [
    "# Dn = ff_test$statistic/(2 * sqrt(nrow(telescopic_aeis) * nrow(impactor_aeis) * (nrow(telescopic_aeis) + nrow(impactor_aeis))))\n",
    "# Dn"
   ]
  },
  {
   "cell_type": "markdown",
   "id": "ef8e6947-2c4e-4ac6-9a5f-0d4cc10163d4",
   "metadata": {},
   "source": [
    "which is the same test statistic we get in our Python implementation of the Fasano-Franceschini method, although with a different $p$-value (not sure how they're calculating theirs...)"
   ]
  },
  {
   "cell_type": "code",
   "execution_count": 28,
   "id": "5ab50b0d-7bed-4c7a-bb4a-31f392494d89",
   "metadata": {},
   "outputs": [
    {
     "data": {
      "text/html": [
       "<strong>D:</strong> 1.18511602807489"
      ],
      "text/latex": [
       "\\textbf{D:} 1.18511602807489"
      ],
      "text/markdown": [
       "**D:** 1.18511602807489"
      ],
      "text/plain": [
       "       D \n",
       "1.185116 "
      ]
     },
     "metadata": {},
     "output_type": "display_data"
    },
    {
     "data": {
      "text/plain": [
       "\n",
       "\tFasano-Franceschini Test\n",
       "\n",
       "data:  rand_norm1 and rand_norm2\n",
       "D = 106000, p-value = 0.8047\n"
      ]
     },
     "metadata": {},
     "output_type": "display_data"
    }
   ],
   "source": [
    "set.seed(0)\n",
    "# rand_norm1 <- data.frame(x1 = rnorm(n=1000, mean=0, sd=1), \n",
    "#            x2 = rnorm(n=1000, mean=0, sd=1), \n",
    "#            x3 = rnorm(n=1000, mean=0, sd=1), \n",
    "#            x4 = rnorm(n=1000, mean=0, sd=1))\n",
    "# rand_norm2 <- data.frame(x1 = rnorm(n=1000, mean=0, sd=2), \n",
    "#            x2 = rnorm(n=1000, mean=0, sd=2), \n",
    "#            x3 = rnorm(n=1000, mean=0, sd=2), \n",
    "#            x4 = rnorm(n=1000, mean=0, sd=2))\n",
    "\n",
    "rand_norm1 <- import('numpy')$load('rand_norm1.npy')\n",
    "rand_norm2 <- import('numpy')$load('rand_norm2.npy')\n",
    "\n",
    "Dntest = fasano.franceschini.test(rand_norm1, rand_norm2, nPermute=100, threads='auto', verbose=FALSE)\n",
    "Dntest$statistic/(2 * sqrt(nrow(rand_norm1) * nrow(rand_norm2) * (nrow(rand_norm1) + nrow(rand_norm2))))\n",
    "Dntest"
   ]
  }
 ],
 "metadata": {
  "kernelspec": {
   "display_name": "R",
   "language": "R",
   "name": "ir"
  },
  "language_info": {
   "codemirror_mode": "r",
   "file_extension": ".r",
   "mimetype": "text/x-r-source",
   "name": "R",
   "pygments_lexer": "r",
   "version": "4.3.1"
  }
 },
 "nbformat": 4,
 "nbformat_minor": 5
}
